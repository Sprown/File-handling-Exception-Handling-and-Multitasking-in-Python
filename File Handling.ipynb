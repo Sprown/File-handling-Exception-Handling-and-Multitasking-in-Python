{
 "cells": [
  {
   "cell_type": "code",
   "execution_count": 9,
   "id": "16550cc2-512c-442a-a93a-e94da71a40cf",
   "metadata": {},
   "outputs": [
    {
     "name": "stdout",
     "output_type": "stream",
     "text": [
      "Hello Word, This is Himanshu\n"
     ]
    }
   ],
   "source": [
    "# 1. Write a code to read the contents of a file in Python.\n",
    "with open(\"test.txt\") as fil:\n",
    "    data = fil.read()\n",
    "    print(data)"
   ]
  },
  {
   "cell_type": "code",
   "execution_count": 15,
   "id": "db771169-9617-4962-8e07-3536a9a59bee",
   "metadata": {},
   "outputs": [
    {
     "name": "stdin",
     "output_type": "stream",
     "text": [
      "Enter the file path to write to:  test.txt\n",
      "Enter the content to write:  Hello World, This is Himanshu\n"
     ]
    }
   ],
   "source": [
    "# 2. Write a code to write to a file in Python.\n",
    "file_path = input(\"Enter the file path to write to: \")\n",
    "content = input(\"Enter the content to write: \")\n",
    "with open(file_path, 'w') as f:\n",
    "    f.write(content)"
   ]
  },
  {
   "cell_type": "code",
   "execution_count": 16,
   "id": "62aadd4b-ce38-4bd6-ba3a-f9d124535ebc",
   "metadata": {},
   "outputs": [
    {
     "name": "stdin",
     "output_type": "stream",
     "text": [
      "Enter the file path to append to:  test.txt\n",
      "Enter the content to append:  Testing Append\n"
     ]
    }
   ],
   "source": [
    "# 3. Write a code to append to a file in Python.\n",
    "file_path = input(\"Enter the file path to append to: \")\n",
    "content = input(\"Enter the content to append: \")\n",
    "with open(file_path, 'a') as f:\n",
    "    f.write(content + '\\n')"
   ]
  },
  {
   "cell_type": "code",
   "execution_count": 17,
   "id": "a227118c-94a1-477e-b3ac-225f7ba6ade7",
   "metadata": {},
   "outputs": [
    {
     "name": "stdin",
     "output_type": "stream",
     "text": [
      "Enter the binary file path to read:  test.txt\n"
     ]
    },
    {
     "name": "stdout",
     "output_type": "stream",
     "text": [
      "b'Hello World, This is HimanshuTesting Append\\n'\n"
     ]
    }
   ],
   "source": [
    "# 4. Write a code to read a binary file in Python.\n",
    "file_path = input(\"Enter the binary file path to read: \")\n",
    "with open(file_path, 'rb') as f:\n",
    "    print(f.read())"
   ]
  },
  {
   "cell_type": "code",
   "execution_count": 18,
   "id": "91f16807-6717-4f3d-bc3e-3b227f908953",
   "metadata": {},
   "outputs": [],
   "source": [
    "# 5. What happens if we don't use 'with' keyword with open in python?\n",
    "# Without 'with', ou need to call f.close() manually. Not doing so can lead to resource leaks or data not being saved properly."
   ]
  },
  {
   "cell_type": "code",
   "execution_count": 19,
   "id": "c5c472a1-7929-428b-99a8-80de4fdf9ea0",
   "metadata": {},
   "outputs": [],
   "source": [
    "# 6. Explain the concept of buffering in file handling and how it helps in improving read and write operations.\n",
    "# Buffering temporarily stores data to reduce the number of I/O operations, making read and write operations faster.\n"
   ]
  },
  {
   "cell_type": "code",
   "execution_count": 20,
   "id": "a738461b-0443-4a34-9566-77a5b529014a",
   "metadata": {},
   "outputs": [],
   "source": [
    "# 7. Describe the steps involved in implementing buffered file handling in a programming language of your choice.\n",
    "# In Python, use the 'buffering' parameter in the open() function. For example: open('file.txt', 'r', buffering=1)"
   ]
  },
  {
   "cell_type": "code",
   "execution_count": 22,
   "id": "b3bd8b97-7136-446a-9b25-09630ba9827e",
   "metadata": {},
   "outputs": [
    {
     "name": "stdin",
     "output_type": "stream",
     "text": [
      "Enter the path of the text file to read:  test.txt\n"
     ]
    },
    {
     "name": "stdout",
     "output_type": "stream",
     "text": [
      "Hello World, This is HimanshuTesting Append\n",
      "\n"
     ]
    }
   ],
   "source": [
    "# 8. Write a Python function to read a text file using buffered reading and return its contents.\n",
    "def read_file(path):\n",
    "    with open(path, 'r', buffering=1) as f:\n",
    "        return f.read()\n",
    "\n",
    "file_path = input(\"Enter the path of the text file to read: \")\n",
    "print(read_file(file_path))"
   ]
  },
  {
   "cell_type": "code",
   "execution_count": 23,
   "id": "7d3f8c75-d1d1-4803-b681-cdd10c203b2c",
   "metadata": {},
   "outputs": [],
   "source": [
    "# 9. What are the advantages of using buffered reading over direct file reading in Python?\n",
    "# Buffered reading reduces the number of I/O operations, which speeds up the reading process."
   ]
  },
  {
   "cell_type": "code",
   "execution_count": 24,
   "id": "b177fa26-ec7d-4bfb-8b8d-fc99024f7bfd",
   "metadata": {},
   "outputs": [
    {
     "name": "stdin",
     "output_type": "stream",
     "text": [
      "Enter the file path to append to:  test.txt\n",
      "Enter the content to append:  Data Science\n"
     ]
    }
   ],
   "source": [
    "# 10. Write a Python code snippet to append content to a file using buffered writing.\n",
    "file_path = input(\"Enter the file path to append to: \")\n",
    "content = input(\"Enter the content to append: \")\n",
    "with open(file_path, 'a', buffering=1) as f:\n",
    "    f.write(content + '\\n')"
   ]
  },
  {
   "cell_type": "code",
   "execution_count": 28,
   "id": "80139917-af6b-4d46-b56a-49179a6141c9",
   "metadata": {},
   "outputs": [
    {
     "name": "stdin",
     "output_type": "stream",
     "text": [
      "Enter the file path to write to:  test.txt\n"
     ]
    },
    {
     "name": "stdout",
     "output_type": "stream",
     "text": [
      "File closed successfully.\n"
     ]
    }
   ],
   "source": [
    "# 11. Write a Python function that demonstrates the use of close() method on a file.\n",
    "def close_file():\n",
    "    file_path = input(\"Enter the file path to write to: \")\n",
    "    with open(file_path, 'w') as f:\n",
    "        f.write('Hello')\n",
    "    print(\"File closed successfully.\")\n",
    "\n",
    "close_file()"
   ]
  },
  {
   "cell_type": "code",
   "execution_count": 29,
   "id": "d25bb56b-ba6f-4833-adac-8c4cb5b005e0",
   "metadata": {},
   "outputs": [
    {
     "name": "stdin",
     "output_type": "stream",
     "text": [
      "Enter the file path to write to:  test.txt\n"
     ]
    },
    {
     "name": "stdout",
     "output_type": "stream",
     "text": [
      "File detached (no more writing possible).\n"
     ]
    }
   ],
   "source": [
    "# 12. Create a Python function to showcase the detach() method on a file object.\n",
    "def detach_file():\n",
    "    file_path = input(\"Enter the file path to write to: \")\n",
    "    f = open(file_path, 'w')\n",
    "    f.write('Hello')\n",
    "    f.detach()\n",
    "    print(\"File detached (no more writing possible).\")\n",
    "\n",
    "detach_file()"
   ]
  },
  {
   "cell_type": "code",
   "execution_count": 31,
   "id": "ae3ebe6a-0de9-4ffe-910e-1b720d12820e",
   "metadata": {},
   "outputs": [
    {
     "name": "stdin",
     "output_type": "stream",
     "text": [
      "Enter the file path to read:  test.txt\n"
     ]
    },
    {
     "name": "stdout",
     "output_type": "stream",
     "text": [
      "ello\n"
     ]
    }
   ],
   "source": [
    "# 13. Write a Python function to demonstrate the use of the seek() method to change the file position.\n",
    "def seek_file():\n",
    "    file_path = input(\"Enter the file path to read: \")\n",
    "    with open(file_path, 'r') as f:\n",
    "        f.seek(10)\n",
    "        print(f.read())\n",
    "\n",
    "seek_file()"
   ]
  },
  {
   "cell_type": "code",
   "execution_count": 32,
   "id": "664d9058-bb4d-484b-a6ea-c6f2f1311832",
   "metadata": {},
   "outputs": [
    {
     "name": "stdin",
     "output_type": "stream",
     "text": [
      "Enter the file path to read:  test.txt\n"
     ]
    },
    {
     "name": "stdout",
     "output_type": "stream",
     "text": [
      "File Descriptor: 63\n"
     ]
    }
   ],
   "source": [
    "# 14. Create a Python function to return the file descriptor (integer number) of a file using the fileno() method.\n",
    "def file_descriptor():\n",
    "    file_path = input(\"Enter the file path to read: \")\n",
    "    with open(file_path, 'r') as f:\n",
    "        return f.fileno()\n",
    "\n",
    "print(\"File Descriptor:\", file_descriptor())"
   ]
  },
  {
   "cell_type": "code",
   "execution_count": 33,
   "id": "534f8425-7a25-4a7c-8734-67b10f57bbfe",
   "metadata": {},
   "outputs": [
    {
     "name": "stdin",
     "output_type": "stream",
     "text": [
      "Enter the file path to read:  test.txt\n"
     ]
    },
    {
     "name": "stdout",
     "output_type": "stream",
     "text": [
      "Current File Position: 0\n"
     ]
    }
   ],
   "source": [
    "# 15. Write a Python function to return the current position of the file's object using the tell() method.\n",
    "def file_position():\n",
    "    file_path = input(\"Enter the file path to read: \")\n",
    "    with open(file_path, 'r') as f:\n",
    "        return f.tell()\n",
    "\n",
    "print(\"Current File Position:\", file_position())"
   ]
  },
  {
   "cell_type": "code",
   "execution_count": 34,
   "id": "e48f22d5-2d62-4f18-a01b-d38825297949",
   "metadata": {},
   "outputs": [
    {
     "name": "stdin",
     "output_type": "stream",
     "text": [
      "Enter the log file path:  test.txt\n"
     ]
    },
    {
     "name": "stdout",
     "output_type": "stream",
     "text": [
      "Log message written to file.\n"
     ]
    }
   ],
   "source": [
    "# 16. Create a Python program that logs a message to a file using the logging module.\n",
    "import logging\n",
    "\n",
    "log_path = input(\"Enter the log file path: \")\n",
    "logging.basicConfig(filename=log_path, level=logging.INFO)\n",
    "logging.info(\"This is a log message.\")\n",
    "print(\"Log message written to file.\")"
   ]
  },
  {
   "cell_type": "code",
   "execution_count": 35,
   "id": "a25c24e0-1314-480d-aa51-fcc8db379159",
   "metadata": {},
   "outputs": [],
   "source": [
    "# 17. Explain the importance of logging levels in Python's logging module.\n",
    "# Logging levels determine the severity of messages. Levels include DEBUG, INFO, WARNING, ERROR, and CRITICAL, controlling what messages get recorded."
   ]
  },
  {
   "cell_type": "code",
   "execution_count": 36,
   "id": "16273654-5c40-4321-bca4-67644be8622c",
   "metadata": {},
   "outputs": [],
   "source": [
    "# 18. Create a Python program that uses the debugger to find the value of a variable inside a loop.\n",
    "# This code snippet is for demonstrating purposes and should be run in an interactive debugger environment like IPython or Jupyter."
   ]
  },
  {
   "cell_type": "code",
   "execution_count": 37,
   "id": "2cacb71f-8d99-423f-93ae-3d74a6b4650b",
   "metadata": {},
   "outputs": [],
   "source": [
    "# 19. Create a Python program that demonstrates setting breakpoints and inspecting variables using the debugger\n",
    "# This code snippet is for demonstrating purposes and should be run in an interactive debugger environment like IPython or Jupyter."
   ]
  },
  {
   "cell_type": "code",
   "execution_count": 38,
   "id": "ad24caa6-0d99-48e1-aeef-849defdadda8",
   "metadata": {},
   "outputs": [],
   "source": [
    "# 20. Create a Python program that uses the debugger to trace a recursive function.\n",
    "# This code snippet is for demonstrating purposes and should be run in an interactive debugger environment like IPython or Jupyter."
   ]
  },
  {
   "cell_type": "code",
   "execution_count": 39,
   "id": "61de70a1-28b4-491e-8bb8-d5950f6dc624",
   "metadata": {},
   "outputs": [
    {
     "name": "stdout",
     "output_type": "stream",
     "text": [
      "Cannot divide by zero.\n"
     ]
    }
   ],
   "source": [
    "# 21. Write a try-except block to handle a ZeroDivisionError.\n",
    "try:\n",
    "    result = 1 / 0\n",
    "except ZeroDivisionError:\n",
    "    print(\"Cannot divide by zero.\")"
   ]
  },
  {
   "cell_type": "code",
   "execution_count": 40,
   "id": "158e167b-6c23-4f1c-a54c-33df20704d95",
   "metadata": {},
   "outputs": [],
   "source": [
    "# 22. How does the else block work with try-except?\n",
    "# The 'else' block runs if no exceptions are raised in the 'try' block."
   ]
  },
  {
   "cell_type": "code",
   "execution_count": 42,
   "id": "bd4d68bf-f4bf-4a8a-a563-e464fd185c17",
   "metadata": {},
   "outputs": [
    {
     "name": "stdin",
     "output_type": "stream",
     "text": [
      "Enter the file path to read:  test.txt\n"
     ]
    },
    {
     "name": "stdout",
     "output_type": "stream",
     "text": [
      "HelloINFO:root:This is a log message.\n",
      "\n"
     ]
    }
   ],
   "source": [
    "# 23. Implement a try-except-else block to open and read a file.\n",
    "file_path = input(\"Enter the file path to read: \")\n",
    "try:\n",
    "    with open(file_path, 'r') as f:\n",
    "        content = f.read()\n",
    "except FileNotFoundError:\n",
    "    print(\"File not found.\")\n",
    "else:\n",
    "    print(content)"
   ]
  },
  {
   "cell_type": "code",
   "execution_count": 43,
   "id": "a18f7c61-34a7-4791-8e70-afc03af43a5b",
   "metadata": {},
   "outputs": [],
   "source": [
    "# 24. What is the purpose of the finally block in exception handling?\n",
    "# The 'finally' block runs whether an exception is raised or not, typically used for cleanup actions."
   ]
  },
  {
   "cell_type": "code",
   "execution_count": 44,
   "id": "8be7487f-dec6-4027-92b5-28156acaf447",
   "metadata": {},
   "outputs": [
    {
     "name": "stdout",
     "output_type": "stream",
     "text": [
      "Invalid number.\n",
      "Execution finished.\n"
     ]
    }
   ],
   "source": [
    "# 25. Write a try-except-finally block to handle a ValueError.\n",
    "try:\n",
    "    num = int(\"abc\")\n",
    "except ValueError:\n",
    "    print(\"Invalid number.\")\n",
    "finally:\n",
    "    print(\"xecution finished.\")"
   ]
  },
  {
   "cell_type": "code",
   "execution_count": 45,
   "id": "e8fbbb10-f5ce-4517-82cc-8adde903156b",
   "metadata": {},
   "outputs": [],
   "source": [
    "# 26. How multiple except blocks work in Python?\n",
    "# Multiple except blocks handle different types of exceptions that may be raised."
   ]
  },
  {
   "cell_type": "code",
   "execution_count": 46,
   "id": "59703d17-9c48-4e88-9628-8782c039234f",
   "metadata": {},
   "outputs": [],
   "source": [
    "# 27. What is a custom exception in Python?\n",
    "# A custom exception is a user-defined exception class that extends the base Exception class."
   ]
  },
  {
   "cell_type": "code",
   "execution_count": 51,
   "id": "b35bf586-b3e0-471e-b8e0-9fd00187321d",
   "metadata": {},
   "outputs": [
    {
     "name": "stdout",
     "output_type": "stream",
     "text": [
      "Something went wrong.\n"
     ]
    }
   ],
   "source": [
    "# 28. Create a custom exception class with a message.\n",
    "class MyError(Exception):\n",
    "    def __init__(self, message):\n",
    "        super().__init__(message)\n",
    "\n",
    "try:\n",
    "    raise MyError(\"Something went wrong.\")\n",
    "except MyError as e:\n",
    "    print(e) "
   ]
  },
  {
   "cell_type": "code",
   "execution_count": 49,
   "id": "5570cbc6-f145-4314-8a4d-52d2301c6e9c",
   "metadata": {},
   "outputs": [
    {
     "ename": "MyError",
     "evalue": "This is a custom exception.",
     "output_type": "error",
     "traceback": [
      "\u001b[0;31m---------------------------------------------------------------------------\u001b[0m",
      "\u001b[0;31mMyError\u001b[0m                                   Traceback (most recent call last)",
      "Cell \u001b[0;32mIn[49], line 5\u001b[0m\n\u001b[1;32m      2\u001b[0m \u001b[38;5;28;01mclass\u001b[39;00m \u001b[38;5;21;01mMyError\u001b[39;00m(\u001b[38;5;167;01mException\u001b[39;00m):\n\u001b[1;32m      3\u001b[0m     \u001b[38;5;28;01mpass\u001b[39;00m\n\u001b[0;32m----> 5\u001b[0m \u001b[38;5;28;01mraise\u001b[39;00m MyError(\u001b[38;5;124m\"\u001b[39m\u001b[38;5;124mThis is a custom exception.\u001b[39m\u001b[38;5;124m\"\u001b[39m)\n",
      "\u001b[0;31mMyError\u001b[0m: This is a custom exception."
     ]
    }
   ],
   "source": [
    "# 29. Write a code to raise a custom exception in Python.\n",
    "class MyError(Exception):\n",
    "    pass\n",
    "\n",
    "raise MyError(\"This is a custom exception.\")\n"
   ]
  },
  {
   "cell_type": "code",
   "execution_count": 53,
   "id": "b2259bb6-a441-4468-8939-ae3b29dd5782",
   "metadata": {},
   "outputs": [
    {
     "name": "stdin",
     "output_type": "stream",
     "text": [
      "Enter a value:  -12\n"
     ]
    },
    {
     "name": "stdout",
     "output_type": "stream",
     "text": [
      "Value cannot be negative.\n"
     ]
    }
   ],
   "source": [
    "# 30. Write a function that raises a custom exception when a value is negative.\n",
    "class NegativeValueError(Exception):\n",
    "    pass\n",
    "\n",
    "def check_value(value):\n",
    "    if value < 0:\n",
    "        raise NegativeValueError(\"Value cannot be negative.\")\n",
    "\n",
    "value = int(input(\"Enter a value: \"))\n",
    "try:\n",
    "    check_value(value)\n",
    "except NegativeValueError as e:\n",
    "    print(e)"
   ]
  },
  {
   "cell_type": "code",
   "execution_count": 54,
   "id": "0b890b76-0ace-4315-ad99-695a6731dc13",
   "metadata": {},
   "outputs": [],
   "source": [
    "# 31. What is the role of try, except, else, and finally in handling exceptions?\n",
    "# 'try' contans code that might raise an exception, 'except' handles exceptions, 'else' runs if no exceptions occur, and 'finally' always runs."
   ]
  },
  {
   "cell_type": "code",
   "execution_count": 55,
   "id": "d6d74b3e-220c-4999-a387-d29b14e78c8f",
   "metadata": {},
   "outputs": [],
   "source": [
    "# 32. How can custom exceptions improve code readability and maintainability?\n",
    "# Custom exceptions allow for more specific error handling and clearer error messages tailored to the application's needs."
   ]
  },
  {
   "cell_type": "code",
   "execution_count": 56,
   "id": "08b4b9c2-9eb2-453c-95f6-fa751493f77d",
   "metadata": {},
   "outputs": [],
   "source": [
    "# 33. What is multithreading?\n",
    "# Multithreading allows multiple threads to run concurrently within a single process, improving efficiency for I/O-bound tasks."
   ]
  },
  {
   "cell_type": "code",
   "execution_count": 57,
   "id": "99790333-7b72-4d95-b826-0dbfce3433a3",
   "metadata": {},
   "outputs": [
    {
     "name": "stdout",
     "output_type": "stream",
     "text": [
      "Hello from the thread!\n"
     ]
    }
   ],
   "source": [
    "# 34. Create a thread in Python.\n",
    "import threading\n",
    "\n",
    "def print_hello():\n",
    "    print(\"Hello from the thread!\")\n",
    "\n",
    "thread = threading.Thread(target=print_hello)\n",
    "thread.start()\n",
    "thread.join()"
   ]
  },
  {
   "cell_type": "code",
   "execution_count": 58,
   "id": "8e014bda-80fb-4847-b66a-57053cef7726",
   "metadata": {},
   "outputs": [],
   "source": [
    "# 35. What is the Global Interpreter Lock (GIL) in Python?\n",
    "# The GIL ensures that only one thread executes Python bytecode at a time, limiting true parallelism in CPython."
   ]
  },
  {
   "cell_type": "code",
   "execution_count": 59,
   "id": "01f64e48-4e5e-4750-9d71-f3c2d9e3adfa",
   "metadata": {},
   "outputs": [
    {
     "name": "stdout",
     "output_type": "stream",
     "text": [
      "0\n",
      "1\n",
      "2\n",
      "3\n",
      "4\n"
     ]
    }
   ],
   "source": [
    "# 36. Implement a simple multithreading example in Python.\n",
    "import threading\n",
    "\n",
    "def print_numbers():\n",
    "    for i in range(5):\n",
    "        print(i)\n",
    "\n",
    "thread = threading.Thread(target=print_numbers)\n",
    "thread.start()\n",
    "thread.join()"
   ]
  },
  {
   "cell_type": "code",
   "execution_count": 60,
   "id": "9e0deb53-6e29-4d9a-9cf8-53304b2c53e2",
   "metadata": {},
   "outputs": [],
   "source": [
    "# 37. What is the purpose of the join() method in threading?\n",
    "# 'join()' waits for"
   ]
  },
  {
   "cell_type": "code",
   "execution_count": 61,
   "id": "4619e02b-e80c-4710-82b4-1e8e265b4ed2",
   "metadata": {},
   "outputs": [],
   "source": [
    "# 38. Describe a scenario where multithreading would be beneficial in Python.\n",
    "# Multithreading is useful for I/O-bound tasks like downloading files or handling multiple simultaneous user requests."
   ]
  },
  {
   "cell_type": "code",
   "execution_count": 62,
   "id": "69d7b548-1dfc-46ee-8474-b5fca75cf6c3",
   "metadata": {},
   "outputs": [],
   "source": [
    "# 39. What is multiprocessing in Python?\n",
    "# Multiprocessing involves running multiple processes in parallel, bypassing the GIL and utilizing multiple CPU cores."
   ]
  },
  {
   "cell_type": "code",
   "execution_count": 63,
   "id": "1ec9b0b1-6652-4a47-a14a-463366d2e53c",
   "metadata": {},
   "outputs": [],
   "source": [
    "# 40. How is multiprocessing different from multithreading in Python?\n",
    "# Multiprocessing uses separate memory space and avoids the GIL, while multithreading shares memory space and is constrained by the GIL."
   ]
  },
  {
   "cell_type": "code",
   "execution_count": 64,
   "id": "027eac91-fed4-4ba9-92c8-aec4eadc2d43",
   "metadata": {},
   "outputs": [
    {
     "name": "stdout",
     "output_type": "stream",
     "text": [
      "Hello from the process!\n"
     ]
    }
   ],
   "source": [
    "# 41. Create a process using the multiprocessing module in Python.\n",
    "import multiprocessing\n",
    "\n",
    "def print_message():\n",
    "    print(\"Hello from the process!\")\n",
    "\n",
    "process = multiprocessing.Process(target=print_message)\n",
    "process.start()\n",
    "process.join()"
   ]
  },
  {
   "cell_type": "code",
   "execution_count": 65,
   "id": "723aac6e-0402-428d-b43e-69c072f061d3",
   "metadata": {},
   "outputs": [],
   "source": [
    "# 42. Explain the concept of Pool in the multiprocessing module.\n",
    "# Pool manages a pool of worker processes for parallel execution of tasks, providing methods like map() to distribute work."
   ]
  },
  {
   "cell_type": "code",
   "execution_count": 66,
   "id": "83b8dbb3-9b44-4e39-8b12-cca9a3fa9828",
   "metadata": {},
   "outputs": [],
   "source": [
    "# 43. Explain inter-process communication in multiprocessing.\n",
    "# Inter-process communication (IPC) allows processes to communicate and share data, using mechanisms like pipes or queues in multiprocessing."
   ]
  },
  {
   "cell_type": "code",
   "execution_count": null,
   "id": "6647846a-16a7-46da-ab81-ed5b3cc52bbb",
   "metadata": {},
   "outputs": [],
   "source": []
  }
 ],
 "metadata": {
  "kernelspec": {
   "display_name": "Python 3 (ipykernel)",
   "language": "python",
   "name": "python3"
  },
  "language_info": {
   "codemirror_mode": {
    "name": "ipython",
    "version": 3
   },
   "file_extension": ".py",
   "mimetype": "text/x-python",
   "name": "python",
   "nbconvert_exporter": "python",
   "pygments_lexer": "ipython3",
   "version": "3.10.8"
  }
 },
 "nbformat": 4,
 "nbformat_minor": 5
}
